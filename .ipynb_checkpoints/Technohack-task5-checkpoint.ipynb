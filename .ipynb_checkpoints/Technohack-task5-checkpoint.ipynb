{
 "cells": [
  {
   "cell_type": "markdown",
   "id": "fe07e939-8805-49f9-86cd-5dcdf47a254a",
   "metadata": {},
   "source": [
    "# Remove Duplication "
   ]
  },
  {
   "cell_type": "code",
   "execution_count": 27,
   "id": "9ca2be93-d086-442b-903a-2ddd16ef9a0a",
   "metadata": {},
   "outputs": [],
   "source": [
    "import numpy as np \n",
    "import pandas as pd"
   ]
  },
  {
   "cell_type": "code",
   "execution_count": 28,
   "id": "d70e97f8-595b-431f-b1a6-38aca9b902cf",
   "metadata": {},
   "outputs": [],
   "source": [
    "data=pd.read_csv('iris.csv')"
   ]
  },
  {
   "cell_type": "code",
   "execution_count": 29,
   "id": "3b4cd44d-4e77-4fdf-8db9-2e371b393a11",
   "metadata": {},
   "outputs": [
    {
     "data": {
      "text/plain": [
       "Index(['Id', 'SepalLengthCm', 'SepalWidthCm', 'PetalLengthCm', 'PetalWidthCm',\n",
       "       'Species'],\n",
       "      dtype='object')"
      ]
     },
     "execution_count": 29,
     "metadata": {},
     "output_type": "execute_result"
    }
   ],
   "source": [
    "data.columns"
   ]
  },
  {
   "cell_type": "code",
   "execution_count": 30,
   "id": "9e5a3a87-ad8e-4d3f-9361-95402a11de22",
   "metadata": {},
   "outputs": [
    {
     "data": {
      "text/plain": [
       "3"
      ]
     },
     "execution_count": 30,
     "metadata": {},
     "output_type": "execute_result"
    }
   ],
   "source": [
    "#check for duplications\n",
    "data.duplicated(subset=['SepalLengthCm', 'SepalWidthCm', 'PetalLengthCm', 'PetalWidthCm','Species']).sum()"
   ]
  },
  {
   "cell_type": "code",
   "execution_count": 31,
   "id": "8a1830e8-535d-4364-a4d1-f4b1ba53178c",
   "metadata": {},
   "outputs": [
    {
     "name": "stdout",
     "output_type": "stream",
     "text": [
      "      Id  SepalLengthCm  SepalWidthCm  PetalLengthCm  PetalWidthCm  \\\n",
      "9     10            4.9           3.1            1.5           0.1   \n",
      "34    35            4.9           3.1            1.5           0.1   \n",
      "37    38            4.9           3.1            1.5           0.1   \n",
      "101  102            5.8           2.7            5.1           1.9   \n",
      "142  143            5.8           2.7            5.1           1.9   \n",
      "\n",
      "            Species  \n",
      "9       Iris-setosa  \n",
      "34      Iris-setosa  \n",
      "37      Iris-setosa  \n",
      "101  Iris-virginica  \n",
      "142  Iris-virginica  \n"
     ]
    }
   ],
   "source": [
    "#identify the rows \n",
    "duplicated_rows = data[data.duplicated(subset=['SepalLengthCm', 'SepalWidthCm', 'PetalLengthCm', 'PetalWidthCm', 'Species'],keep=False)]\n",
    "print(duplicated_rows)"
   ]
  },
  {
   "cell_type": "code",
   "execution_count": 32,
   "id": "bea8326d-9a8f-4dbe-b5b5-01548d7f8692",
   "metadata": {},
   "outputs": [],
   "source": [
    "# drop the duplications and keep the first element \n",
    "data.drop_duplicates(subset=['SepalLengthCm', 'SepalWidthCm', 'PetalLengthCm', 'PetalWidthCm', 'Species'],keep='first',inplace=True)"
   ]
  },
  {
   "cell_type": "code",
   "execution_count": 33,
   "id": "a0e77276-f222-4332-85d4-c3136ba37219",
   "metadata": {},
   "outputs": [
    {
     "data": {
      "text/plain": [
       "0"
      ]
     },
     "execution_count": 33,
     "metadata": {},
     "output_type": "execute_result"
    }
   ],
   "source": [
    "# check for duplications\n",
    "data.duplicated(subset=['SepalLengthCm', 'SepalWidthCm', 'PetalLengthCm', 'PetalWidthCm','Species']).sum()"
   ]
  }
 ],
 "metadata": {
  "kernelspec": {
   "display_name": "Python 3 (ipykernel)",
   "language": "python",
   "name": "python3"
  },
  "language_info": {
   "codemirror_mode": {
    "name": "ipython",
    "version": 3
   },
   "file_extension": ".py",
   "mimetype": "text/x-python",
   "name": "python",
   "nbconvert_exporter": "python",
   "pygments_lexer": "ipython3",
   "version": "3.12.1"
  }
 },
 "nbformat": 4,
 "nbformat_minor": 5
}
